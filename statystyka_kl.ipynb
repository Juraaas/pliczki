{
  "nbformat": 4,
  "nbformat_minor": 0,
  "metadata": {
    "colab": {
      "provenance": []
    },
    "kernelspec": {
      "name": "python3",
      "display_name": "Python 3"
    },
    "language_info": {
      "name": "python"
    }
  },
  "cells": [
    {
      "cell_type": "markdown",
      "source": [
        "## Import modułów (zawsze na początku każdego kodu)"
      ],
      "metadata": {
        "id": "_KTZxKJhXfEB"
      }
    },
    {
      "cell_type": "code",
      "source": [
        "# importowanie modułów odbywa się tak: import nazwaModułu, importowanie funkcji z modułu odbywa się tak: from nazwaModułu import funkcjazModułu\n",
        "import numpy as np\n",
        "import seaborn as sns\n",
        "import matplotlib.pyplot as plt\n",
        "import statistics\n",
        "import scipy\n",
        "from scipy.stats import ttest_rel"
      ],
      "metadata": {
        "id": "0fnXNKTNVwDg"
      },
      "execution_count": 9,
      "outputs": []
    },
    {
      "cell_type": "markdown",
      "source": [
        "## Podstawowe operacje na listach"
      ],
      "metadata": {
        "id": "fdRQ52oEXj3C"
      }
    },
    {
      "cell_type": "code",
      "source": [
        "lista = [1,2,3,4,5]\n",
        "# wyświetlenie trzeciej wartości z listy (indeksujemy listę od 0 czyli liczymy 0,1,2)\n",
        "print(lista)\n",
        "print(lista[2])"
      ],
      "metadata": {
        "colab": {
          "base_uri": "https://localhost:8080/"
        },
        "id": "pcURpq3hVwVA",
        "outputId": "faad84f7-b9eb-4233-e8af-d14b21e7d47b"
      },
      "execution_count": 7,
      "outputs": [
        {
          "output_type": "stream",
          "name": "stdout",
          "text": [
            "[1, 2, 3, 4, 5]\n",
            "3\n"
          ]
        }
      ]
    },
    {
      "cell_type": "code",
      "source": [
        "#podmienienie trzeciej wartości z listy na wartość „111”\n",
        "lista[2]=111\n",
        "print(lista)\n",
        "print(lista[2])"
      ],
      "metadata": {
        "colab": {
          "base_uri": "https://localhost:8080/"
        },
        "id": "T0sCDY5ZV1wu",
        "outputId": "9886a6dd-44b9-40c1-c205-ac6b94b9bac4"
      },
      "execution_count": 6,
      "outputs": [
        {
          "output_type": "stream",
          "name": "stdout",
          "text": [
            "[1, 2, 111, 4, 5]\n",
            "111\n"
          ]
        }
      ]
    },
    {
      "cell_type": "code",
      "source": [
        "# usunięcie z listy trzeciej wartości\n",
        "del lista[2]\n",
        "print(lista)"
      ],
      "metadata": {
        "colab": {
          "base_uri": "https://localhost:8080/"
        },
        "id": "qSUPrdAvV4av",
        "outputId": "6c68d0b8-ef0a-4fe5-a361-586d6bd0a8ab"
      },
      "execution_count": 8,
      "outputs": [
        {
          "output_type": "stream",
          "name": "stdout",
          "text": [
            "[1, 2, 4, 5]\n"
          ]
        }
      ]
    },
    {
      "cell_type": "code",
      "source": [
        "# sprawdzenie długości listy\n",
        "len(lista)"
      ],
      "metadata": {
        "colab": {
          "base_uri": "https://localhost:8080/"
        },
        "id": "f93y0iRgWr1H",
        "outputId": "7f3546ba-f4fa-4a19-a528-54085fa79af9"
      },
      "execution_count": 10,
      "outputs": [
        {
          "output_type": "execute_result",
          "data": {
            "text/plain": [
              "4"
            ]
          },
          "metadata": {},
          "execution_count": 10
        }
      ]
    },
    {
      "cell_type": "code",
      "source": [
        "# dodawanie wartości „21” na koniec listy\n",
        "lista.append(21)\n",
        "# dodanie wartości 6 na trzecią pozycję w liście\n",
        "lista.insert(2, 6)\n",
        "print(lista)"
      ],
      "metadata": {
        "colab": {
          "base_uri": "https://localhost:8080/"
        },
        "id": "yF9yOAFQW2yd",
        "outputId": "ae612981-8749-4db9-c50a-cbfde1993604"
      },
      "execution_count": 11,
      "outputs": [
        {
          "output_type": "stream",
          "name": "stdout",
          "text": [
            "[1, 2, 6, 4, 5, 21]\n"
          ]
        }
      ]
    },
    {
      "cell_type": "markdown",
      "source": [
        "## Ręczne sprawdzenie modułów dostępnych w bibliotece"
      ],
      "metadata": {
        "id": "To28KNb6Xm-D"
      }
    },
    {
      "cell_type": "code",
      "source": [
        "# sprawdzenie jakie są dostępne funkcje w module np. w module statistics, można tez wpisać statistics. i wyświetlą się moduły jeśli się zapomni nazwy\n",
        "dir(statistics)"
      ],
      "metadata": {
        "colab": {
          "base_uri": "https://localhost:8080/"
        },
        "id": "Kik0I-fjW9so",
        "outputId": "469b3712-46b4-4f7e-87ac-13f74fd8707c"
      },
      "execution_count": 12,
      "outputs": [
        {
          "output_type": "execute_result",
          "data": {
            "text/plain": [
              "['Counter',\n",
              " 'Decimal',\n",
              " 'Fraction',\n",
              " 'LinearRegression',\n",
              " 'NormalDist',\n",
              " 'StatisticsError',\n",
              " '_SQRT2',\n",
              " '__all__',\n",
              " '__annotations__',\n",
              " '__builtins__',\n",
              " '__cached__',\n",
              " '__doc__',\n",
              " '__file__',\n",
              " '__loader__',\n",
              " '__name__',\n",
              " '__package__',\n",
              " '__spec__',\n",
              " '_coerce',\n",
              " '_convert',\n",
              " '_decimal_sqrt_of_frac',\n",
              " '_exact_ratio',\n",
              " '_fail_neg',\n",
              " '_float_sqrt_of_frac',\n",
              " '_integer_sqrt_of_frac_rto',\n",
              " '_isfinite',\n",
              " '_mean_stdev',\n",
              " '_normal_dist_inv_cdf',\n",
              " '_sqrt_bit_width',\n",
              " '_ss',\n",
              " '_sum',\n",
              " 'bisect_left',\n",
              " 'bisect_right',\n",
              " 'correlation',\n",
              " 'covariance',\n",
              " 'defaultdict',\n",
              " 'erf',\n",
              " 'exp',\n",
              " 'fabs',\n",
              " 'fmean',\n",
              " 'fsum',\n",
              " 'geometric_mean',\n",
              " 'groupby',\n",
              " 'harmonic_mean',\n",
              " 'hypot',\n",
              " 'linear_regression',\n",
              " 'log',\n",
              " 'math',\n",
              " 'mean',\n",
              " 'median',\n",
              " 'median_grouped',\n",
              " 'median_high',\n",
              " 'median_low',\n",
              " 'mode',\n",
              " 'mul',\n",
              " 'multimode',\n",
              " 'namedtuple',\n",
              " 'numbers',\n",
              " 'pstdev',\n",
              " 'pvariance',\n",
              " 'quantiles',\n",
              " 'random',\n",
              " 'reduce',\n",
              " 'repeat',\n",
              " 'sqrt',\n",
              " 'stdev',\n",
              " 'sys',\n",
              " 'tau',\n",
              " 'variance']"
            ]
          },
          "metadata": {},
          "execution_count": 12
        }
      ]
    },
    {
      "cell_type": "markdown",
      "source": [
        "## Tworzenie macierzy i mnożenie macierzy"
      ],
      "metadata": {
        "id": "CE7Aj2cnXttO"
      }
    },
    {
      "cell_type": "code",
      "source": [
        "# macierze robimy tak samo jak listy tylko dajemy jeszcze w dodatkowy nawias okrągły i używamy funkcji np.array\n",
        "macierz1=np.array([1.7,8.3])\n",
        "macierz2=np.array([0.2,5.0])\n",
        "#obliczanie iloczynu Hadamarda\n",
        "macierz_wynikowa=np.multiply(macierz1,macierz2)\n",
        "\n",
        "print(macierz1)\n",
        "print(macierz2)\n",
        "print(macierz_wynikowa)"
      ],
      "metadata": {
        "colab": {
          "base_uri": "https://localhost:8080/"
        },
        "id": "GJ7vr8QiXILZ",
        "outputId": "3e9b797f-c992-40e4-f889-f2ff2b1d8e37"
      },
      "execution_count": 13,
      "outputs": [
        {
          "output_type": "stream",
          "name": "stdout",
          "text": [
            "[1.7 8.3]\n",
            "[0.2 5. ]\n",
            "[ 0.34 41.5 ]\n"
          ]
        }
      ]
    },
    {
      "cell_type": "code",
      "source": [],
      "metadata": {
        "id": "OG2OwlTOYA-e"
      },
      "execution_count": null,
      "outputs": []
    },
    {
      "cell_type": "markdown",
      "source": [
        "## Histogramy i wykresy"
      ],
      "metadata": {
        "id": "UA31-LpXYCyy"
      }
    },
    {
      "cell_type": "markdown",
      "source": [
        "### Jak robimy import numpy as np i seaborn as sns, to mozemy odwolywac sie po skrocie czyli np.array, sns.histplot"
      ],
      "metadata": {
        "id": "CXn7W0AlYHEE"
      }
    },
    {
      "cell_type": "code",
      "source": [
        "sns.histplot(lista)"
      ],
      "metadata": {
        "colab": {
          "base_uri": "https://localhost:8080/",
          "height": 447
        },
        "id": "cfGMmFKBXzQr",
        "outputId": "da32b621-2fbf-4f71-bc36-dfd2c5fc3595"
      },
      "execution_count": 14,
      "outputs": [
        {
          "output_type": "execute_result",
          "data": {
            "text/plain": [
              "<Axes: ylabel='Count'>"
            ]
          },
          "metadata": {},
          "execution_count": 14
        },
        {
          "output_type": "display_data",
          "data": {
            "text/plain": [
              "<Figure size 640x480 with 1 Axes>"
            ],
            "image/png": "[encoded data removed]"
          },
          "metadata": {}
        }
      ]
    },
    {
      "cell_type": "code",
      "source": [
        "# użycie bins i wartości zmienia liczbę przedziałów histogramu, kde przybliża histogram linią, ustawiony parametr stat\n",
        "sns.histplot(lista, bins=3, kde=True, stat='proportion')"
      ],
      "metadata": {
        "colab": {
          "base_uri": "https://localhost:8080/",
          "height": 447
        },
        "id": "YTmIxe8mYSQY",
        "outputId": "f10d292b-6472-4ebc-92b4-862245e6ba1f"
      },
      "execution_count": 16,
      "outputs": [
        {
          "output_type": "execute_result",
          "data": {
            "text/plain": [
              "<Axes: ylabel='Proportion'>"
            ]
          },
          "metadata": {},
          "execution_count": 16
        },
        {
          "output_type": "display_data",
          "data": {
            "text/plain": [
              "<Figure size 640x480 with 1 Axes>"
            ],
            "image/png": "[encoded data removed]"
          },
          "metadata": {}
        }
      ]
    },
    {
      "cell_type": "code",
      "source": [
        "# inny sposób na robienie wykresów to z biblioteki plt (mamy mniej opcji) , plt.figure(figsize=(4,4)) - ustawienie rozmiaru, plt.show() - wyswietlenie, plt.xlabel, plt.ylabel - podpisanie osi, plt.legend() - wyswietlenie legendy\n",
        "plt.figure(figsize=(4,4))\n",
        "plt.hist(lista)\n",
        "plt.show()"
      ],
      "metadata": {
        "colab": {
          "base_uri": "https://localhost:8080/",
          "height": 403
        },
        "id": "-0ByfzTGgDEs",
        "outputId": "183780ec-471d-42d0-82df-c280c51d313d"
      },
      "execution_count": 51,
      "outputs": [
        {
          "output_type": "stream",
          "name": "stderr",
          "text": [
            "<ipython-input-51-bc31c15a4c75>:4: UserWarning: No artists with labels found to put in legend.  Note that artists whose label start with an underscore are ignored when legend() is called with no argument.\n",
            "  plt.legend()\n"
          ]
        },
        {
          "output_type": "display_data",
          "data": {
            "text/plain": [
              "<Figure size 400x400 with 1 Axes>"
            ],
            "image/png": "[encoded data removed]"
          },
          "metadata": {}
        }
      ]
    },
    {
      "cell_type": "code",
      "source": [
        "# wykres scatterplot\n",
        "plt.scatter(lista1, lista3)"
      ],
      "metadata": {
        "colab": {
          "base_uri": "https://localhost:8080/",
          "height": 447
        },
        "id": "oU0GHhkggNC-",
        "outputId": "c3ec1d53-83a3-45e9-a7e5-e1f4d002927f"
      },
      "execution_count": 42,
      "outputs": [
        {
          "output_type": "execute_result",
          "data": {
            "text/plain": [
              "<matplotlib.collections.PathCollection at 0x7d007f52d490>"
            ]
          },
          "metadata": {},
          "execution_count": 42
        },
        {
          "output_type": "display_data",
          "data": {
            "text/plain": [
              "<Figure size 640x480 with 1 Axes>"
            ],
            "image/png": "[encoded data removed]"
          },
          "metadata": {}
        }
      ]
    },
    {
      "cell_type": "markdown",
      "source": [
        "## silnia"
      ],
      "metadata": {
        "id": "WkVLOsQxY7tj"
      }
    },
    {
      "cell_type": "code",
      "source": [
        "import scipy.special\n",
        "scipy.special.factorial(3, exact=True)"
      ],
      "metadata": {
        "colab": {
          "base_uri": "https://localhost:8080/"
        },
        "id": "fFmLEKxbYoo9",
        "outputId": "eae99823-b36c-4ada-a710-41555d5bb84c"
      },
      "execution_count": 17,
      "outputs": [
        {
          "output_type": "execute_result",
          "data": {
            "text/plain": [
              "6"
            ]
          },
          "metadata": {},
          "execution_count": 17
        }
      ]
    },
    {
      "cell_type": "markdown",
      "source": [
        "## Rozkład dwumianowy"
      ],
      "metadata": {
        "id": "OwhmynXVab0t"
      }
    },
    {
      "cell_type": "code",
      "source": [
        "# wygeneruje liczbę sukcesów po jednokrotnym przeprowadzeniu n prób\n",
        "# przykładowo rzucamy 4 monety i liczymy ile wypadło orłów\n",
        "# równie dobrze możemy rzucać jedną monetą 4 razy i liczyć ile wypadło orłów\n",
        "from numpy.random import default_rng\n",
        "s = default_rng().binomial(4, 0.5, 1)\n",
        "print(s)"
      ],
      "metadata": {
        "colab": {
          "base_uri": "https://localhost:8080/"
        },
        "id": "3xJ9Lw8nZDqN",
        "outputId": "16264cfe-47dc-452f-a57c-ce346cc9043f"
      },
      "execution_count": 19,
      "outputs": [
        {
          "output_type": "stream",
          "name": "stdout",
          "text": [
            "[3]\n"
          ]
        }
      ]
    },
    {
      "cell_type": "code",
      "source": [
        "# Funkcja masy prawdopodobieństwa dla rozkładu dwumianowego\n",
        "# Jest to dyskretna funkcja gęstości prawdopodobieństwa, n to liczba prób, k to liczba sukcesów, p prawdopodobieństwo sukcesu poda jakie jest prawdopodobieństwo wystąpienia k sukcesów w n próbach\n",
        "from scipy.stats import binom\n",
        "binom.pmf(1, 2, 0.5)"
      ],
      "metadata": {
        "colab": {
          "base_uri": "https://localhost:8080/"
        },
        "id": "OVjonRrRaJG3",
        "outputId": "134fc899-5b43-4ca5-cf08-26ad58ccbe47"
      },
      "execution_count": 21,
      "outputs": [
        {
          "output_type": "execute_result",
          "data": {
            "text/plain": [
              "0.5000000000000002"
            ]
          },
          "metadata": {},
          "execution_count": 21
        }
      ]
    },
    {
      "cell_type": "markdown",
      "source": [
        "## Dystrybuanta"
      ],
      "metadata": {
        "id": "6_GUe1i6aeTT"
      }
    },
    {
      "cell_type": "code",
      "source": [
        "# Dystrybuanta dla rozkładu dwumianowego, n to liczba prób, k to liczba sukcesów, p prawdopodobieństwo sukcesu poda prawdopodobieństw wystąpienia mniejszej (lub równej) liczy sukcesów niż k\n",
        "binom.cdf(1, 2, 0.5)"
      ],
      "metadata": {
        "colab": {
          "base_uri": "https://localhost:8080/"
        },
        "id": "-ebzw-dqaf0P",
        "outputId": "2afa69ef-e6e3-4c78-ccb1-21082e66d23c"
      },
      "execution_count": 22,
      "outputs": [
        {
          "output_type": "execute_result",
          "data": {
            "text/plain": [
              "0.75"
            ]
          },
          "metadata": {},
          "execution_count": 22
        }
      ]
    },
    {
      "cell_type": "code",
      "source": [
        "# wyliczanie dystrybuanty dla rozkładu normalnego, wartość dystrybuanty jest równa prawdopodobieństwu, że zmienna losowa będzie mniejsza niż wielkość x, x - wartość dla której chcemy wyliczyć dystrybuantę loc - wartość średniej arytmetycznej scale - odchylenie standardowe\n",
        "from scipy.stats import norm\n",
        "dystrybuanta_rozkladu_norm=norm.cdf(lista, loc=np.mean(lista), scale=np.std(lista))\n",
        "print(dystrybuanta_rozkladu_norm)"
      ],
      "metadata": {
        "colab": {
          "base_uri": "https://localhost:8080/"
        },
        "id": "Q41UNEivaCLc",
        "outputId": "34e10e5d-e199-4407-b955-500adaf0d50a"
      },
      "execution_count": 23,
      "outputs": [
        {
          "output_type": "stream",
          "name": "stdout",
          "text": [
            "[0.20592231 0.25096937 0.47026461 0.35456546 0.41145097 0.98475003]\n"
          ]
        }
      ]
    },
    {
      "cell_type": "markdown",
      "source": [
        "## Gęstość prawdopodobieństwa"
      ],
      "metadata": {
        "id": "146T8be-bfEr"
      }
    },
    {
      "cell_type": "code",
      "source": [
        "# obliczanie wartości gęstości prawdopodobieństwa dla rozkładu normalnego x - wartość dla której chcemy obliczyć gęstości prawdopodobieństwa, nie musi być to pojedyncza wartość może być to macierz loc - wartość średniej arytmetycznej scale - odchylenie standardowe\n",
        "gestosc_prawdop_listy=norm.pdf(lista, loc=np.mean(lista), scale=np.std(lista))\n",
        "print(gestosc_prawdop_listy)"
      ],
      "metadata": {
        "colab": {
          "base_uri": "https://localhost:8080/"
        },
        "id": "4QbfAhYhbe2p",
        "outputId": "8b1e9d89-92d4-427c-c4a9-a429fd8e454d"
      },
      "execution_count": 24,
      "outputs": [
        {
          "output_type": "stream",
          "name": "stdout",
          "text": [
            "[0.04250738 0.0475126  0.05936052 0.05552531 0.05805355 0.00573144]\n"
          ]
        }
      ]
    },
    {
      "cell_type": "markdown",
      "source": [
        "## Rozkład normalny"
      ],
      "metadata": {
        "id": "LVMhr0Kqhk1w"
      }
    },
    {
      "cell_type": "code",
      "source": [
        "from scipy.stats import norm\n",
        "\n",
        "# Dane przykładowe\n",
        "lista_7 = [-2, -1, 0, 1, 2]  # Lista konkretnych wartości x\n",
        "loc = 0  # Średnia arytmetyczna\n",
        "scale = 1  # Odchylenie standardowe\n",
        "\n",
        "# Obliczanie gęstości prawdopodobieństwa (PDF) dla każdej wartości x\n",
        "gestosc = norm.pdf(lista_7, loc=loc, scale=scale)\n",
        "\n",
        "# Obliczanie dystrybuanty (CDF) dla każdej wartości x\n",
        "dystrybuanta = norm.cdf(lista_7, loc=loc, scale=scale)\n",
        "\n",
        "# Wyświetlanie wyników\n",
        "print(\"Dla wartości x:\", lista_7)\n",
        "print(\"Gęstość prawdopodobieństwa (PDF):\", gestosc)\n",
        "print(\"Dystrybuanta (CDF):\", dystrybuanta)"
      ],
      "metadata": {
        "colab": {
          "base_uri": "https://localhost:8080/"
        },
        "id": "02jHqWJUhnPi",
        "outputId": "caa79e79-8e8b-4eab-a36d-93c7fb870c2f"
      },
      "execution_count": 47,
      "outputs": [
        {
          "output_type": "stream",
          "name": "stdout",
          "text": [
            "Dla wartości x: [-2, -1, 0, 1, 2]\n",
            "Gęstość prawdopodobieństwa (PDF): [0.05399097 0.24197072 0.39894228 0.24197072 0.05399097]\n",
            "Dystrybuanta (CDF): [0.02275013 0.15865525 0.5        0.84134475 0.97724987]\n"
          ]
        }
      ]
    },
    {
      "cell_type": "markdown",
      "source": [
        "## średnia i odchylenie standardowe"
      ],
      "metadata": {
        "id": "dmYqjOrpZx38"
      }
    },
    {
      "cell_type": "code",
      "source": [
        "print(statistics.mean(lista))\n",
        "print(np.mean(lista))\n",
        "\n",
        "print(np.std(lista))"
      ],
      "metadata": {
        "colab": {
          "base_uri": "https://localhost:8080/"
        },
        "id": "e5jrLPM3Zr_8",
        "outputId": "c86b6c03-862d-48a6-8c8b-d644d4bef4cd"
      },
      "execution_count": 20,
      "outputs": [
        {
          "output_type": "stream",
          "name": "stdout",
          "text": [
            "6.5\n",
            "6.5\n",
            "6.701989754294367\n"
          ]
        }
      ]
    },
    {
      "cell_type": "markdown",
      "source": [
        "## zaokroąglenie"
      ],
      "metadata": {
        "id": "TqrpHsichokw"
      }
    },
    {
      "cell_type": "code",
      "source": [
        "a = 5.333333333333\n",
        "print(np.round(a, 3)) # wpisujemy zmienną, bądź liczbę i ilość miejsc po przecinku zaokrąglenia"
      ],
      "metadata": {
        "colab": {
          "base_uri": "https://localhost:8080/"
        },
        "id": "_e31S6Qrhq-F",
        "outputId": "3ab2248d-fb9d-4db2-e8fc-1a9d23a5db34"
      },
      "execution_count": 46,
      "outputs": [
        {
          "output_type": "stream",
          "name": "stdout",
          "text": [
            "5.333\n"
          ]
        }
      ]
    },
    {
      "cell_type": "markdown",
      "source": [
        "## Wartość krytyczna dla testu F-Snedecora"
      ],
      "metadata": {
        "id": "rPgSfRZUcE93"
      }
    },
    {
      "cell_type": "code",
      "source": [
        "#uzyskana z funkcji odwrotnej dystrybuanty ppf, funkcja ppf dostaje prawdopodobieństwo i zwraca wartość krytyczna Fkr, ważna jest kolejność podania stopni swobody\n",
        "#df1 = n1 - 1; df2 = n2 - 1\n",
        "# q to współczynnik ufności jeżeli chcemy a = 0.05 to dajemy q = 0.95\n",
        "from scipy.stats import f\n",
        "n1 = 10  # liczba obserwacji w grupie 1\n",
        "n2 = 15  # liczba obserwacji w grupie 2\n",
        "\n",
        "# Współczynnik ufności\n",
        "q = 0.95  # dla poziomu istotności alfa = 0.05\n",
        "x = f.ppf(q=0.95, dfn=n1 - 1, dfd=n2 - 1)\n",
        "\n",
        "# dystrybuanta dla rozkładu F-Snedecora\n",
        "p_value =f.cdf(x, dfn=n1 - 1, dfd=n2 - 1)\n",
        "print(x)\n",
        "print(p_value)"
      ],
      "metadata": {
        "colab": {
          "base_uri": "https://localhost:8080/"
        },
        "id": "0bt0zdW4bEW-",
        "outputId": "a4fd6cca-af19-48c3-eb7c-9aea1ab90cda"
      },
      "execution_count": 27,
      "outputs": [
        {
          "output_type": "stream",
          "name": "stdout",
          "text": [
            "2.6457907352338195\n",
            "0.95\n"
          ]
        }
      ]
    },
    {
      "cell_type": "markdown",
      "source": [
        "## t-test i test Welcha"
      ],
      "metadata": {
        "id": "4S9ae9p7eHRX"
      }
    },
    {
      "cell_type": "code",
      "source": [
        "from scipy import stats\n",
        "lista1 = [1,2,3]\n",
        "lista2 = [4,5,6]\n",
        "lista3 = [1,3,5]\n",
        "\n",
        "# obliczenie wariancji dla jasności przykładu\n",
        "print(statistics.variance(lista1))\n",
        "print(statistics.variance(lista2))\n",
        "print(statistics.variance(lista3))\n",
        "print('\\n')\n",
        "\n",
        "wynik = stats.ttest_ind(lista1, lista2, equal_var=True) # jak wariancje są równe to można dać parametr equal_var=True i wykona się test-t\n",
        "print(wynik)\n",
        "print(wynik.statistic)\n",
        "print(wynik.pvalue)\n",
        "print('\\n')\n",
        "\n",
        "wynik2 = stats.ttest_ind(lista1, lista2, equal_var=True) # jak wariancje nie są równe to można dać parametr equal_var=False i wykona się test Welcha\n",
        "print(wynik2)\n",
        "print(wynik2.statistic)\n",
        "print(wynik2.pvalue)"
      ],
      "metadata": {
        "colab": {
          "base_uri": "https://localhost:8080/"
        },
        "id": "Ind_xIZIc7ik",
        "outputId": "094637cf-bc32-431c-ca4b-f9459eda2932"
      },
      "execution_count": 37,
      "outputs": [
        {
          "output_type": "stream",
          "name": "stdout",
          "text": [
            "1\n",
            "1\n",
            "4\n",
            "\n",
            "\n",
            "TtestResult(statistic=-3.6742346141747673, pvalue=0.021311641128756727, df=4.0)\n",
            "-3.6742346141747673\n",
            "0.021311641128756727\n",
            "\n",
            "\n",
            "TtestResult(statistic=-3.6742346141747673, pvalue=0.021311641128756727, df=4.0)\n",
            "-3.6742346141747673\n",
            "0.021311641128756727\n"
          ]
        }
      ]
    },
    {
      "cell_type": "code",
      "source": [
        "# Liczba stopni swobody dla równości wariancji\n",
        "n1, n2 = len(lista1), len(lista2)\n",
        "df_equal_var = n1 + n2 - 2  # Równe wariancje\n",
        "\n",
        "# Obliczanie dystrybuanty dla testu równości wariancji\n",
        "dystrybuanta = stats.t.cdf(wynik.statistic, df=df_equal_var)\n",
        "print(\"Dystrybuanta t-Studenta dla równości wariancji:\")\n",
        "print(f\"Prawdopodobieństwo (CDF): {dystrybuanta:.4f}\")\n",
        "print(\"\\n\")"
      ],
      "metadata": {
        "colab": {
          "base_uri": "https://localhost:8080/"
        },
        "id": "29BHvhRkfHeA",
        "outputId": "c023526c-0269-459c-f848-2dcbdc717e6e"
      },
      "execution_count": 43,
      "outputs": [
        {
          "output_type": "stream",
          "name": "stdout",
          "text": [
            "Dystrybuanta t-Studenta dla równości wariancji:\n",
            "Prawdopodobieństwo (CDF): 0.0107\n",
            "\n",
            "\n"
          ]
        }
      ]
    },
    {
      "cell_type": "code",
      "source": [
        "# Odwrotna dystrybuanta dla testu-t\n",
        "from scipy.stats import t\n",
        "alpha = 0.05  # Poziom istotności\n",
        "q = alpha / 2  # Prawdopodobieństwo dla testu dwustronnego\n",
        "\n",
        "# Obliczanie wartości krytycznej t\n",
        "t_kr = t.ppf(q=q, df=df_equal_var)\n",
        "\n",
        "print(f\"Wartość krytyczna t (dla q={q:.3f}, df={df_equal_var}): {t_kr:.4f}\")"
      ],
      "metadata": {
        "colab": {
          "base_uri": "https://localhost:8080/"
        },
        "id": "xNkfc4mNf7hC",
        "outputId": "9e9add4a-3fe1-4d82-8e8a-c24e1be659a4"
      },
      "execution_count": 44,
      "outputs": [
        {
          "output_type": "stream",
          "name": "stdout",
          "text": [
            "Wartość krytyczna t (dla q=0.025, df=4): -2.7764\n"
          ]
        }
      ]
    },
    {
      "cell_type": "markdown",
      "source": [
        "## test ANOVA"
      ],
      "metadata": {
        "id": "mz1pfspohDY-"
      }
    },
    {
      "cell_type": "code",
      "source": [
        "import scipy.stats as stats\n",
        "lista4 = [7,8,9]\n",
        "fvalue, pvalue = stats.f_oneway(lista1, lista2, lista3, lista4)\n",
        "print(fvalue, pvalue)"
      ],
      "metadata": {
        "colab": {
          "base_uri": "https://localhost:8080/"
        },
        "id": "nElAuTYrhC9V",
        "outputId": "87475644-ea54-4606-8d6c-ba1361cba1ca"
      },
      "execution_count": 45,
      "outputs": [
        {
          "output_type": "stream",
          "name": "stdout",
          "text": [
            "12.0 0.002485724427449331\n"
          ]
        }
      ]
    },
    {
      "cell_type": "markdown",
      "source": [
        "## Regresja liniowa"
      ],
      "metadata": {
        "id": "7WpCr0WxirYG"
      }
    },
    {
      "cell_type": "code",
      "source": [
        "regresja = stats.linregress(lista1, lista3)\n",
        "print(regresja)\n",
        "print(f'Wyraz wolny: {regresja.intercept}, współczynnik korelacji: {regresja.rvalue}, współczynnik determinacji {regresja.rvalue**2}')"
      ],
      "metadata": {
        "colab": {
          "base_uri": "https://localhost:8080/"
        },
        "id": "0gocBmBqiuaT",
        "outputId": "e6cf098a-ac3e-4f2a-9665-a88704099d42"
      },
      "execution_count": 50,
      "outputs": [
        {
          "output_type": "stream",
          "name": "stdout",
          "text": [
            "LinregressResult(slope=2.0, intercept=-1.0, rvalue=1.0, pvalue=9.003163161571059e-11, stderr=0.0, intercept_stderr=0.0)\n",
            "Wyraz wolny: -1.0, współczynnik korelacji: 1.0, współczynnik determinacji 1.0\n"
          ]
        }
      ]
    },
    {
      "cell_type": "code",
      "source": [],
      "metadata": {
        "id": "Xn_N8fn5i51e"
      },
      "execution_count": null,
      "outputs": []
    }
  ]
}